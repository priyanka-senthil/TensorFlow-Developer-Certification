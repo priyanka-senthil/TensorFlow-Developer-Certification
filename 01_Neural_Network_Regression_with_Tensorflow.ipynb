{
  "nbformat": 4,
  "nbformat_minor": 0,
  "metadata": {
    "colab": {
      "provenance": [],
      "authorship_tag": "ABX9TyPpUs1wGnqhCSBp38k0zpXz",
      "include_colab_link": true
    },
    "kernelspec": {
      "name": "python3",
      "display_name": "Python 3"
    },
    "language_info": {
      "name": "python"
    }
  },
  "cells": [
    {
      "cell_type": "markdown",
      "metadata": {
        "id": "view-in-github",
        "colab_type": "text"
      },
      "source": [
        "<a href=\"https://colab.research.google.com/github/priyanka-senthil/TensorFlow-Developer-Certification/blob/main/01_Neural_Network_Regression_with_Tensorflow.ipynb\" target=\"_parent\"><img src=\"https://colab.research.google.com/assets/colab-badge.svg\" alt=\"Open In Colab\"/></a>"
      ]
    },
    {
      "cell_type": "code",
      "execution_count": 2,
      "metadata": {
        "id": "abY6dmqBhxA5"
      },
      "outputs": [],
      "source": [
        "import tensorflow as tf\n",
        "from tensorflow import expand_dims"
      ]
    },
    {
      "cell_type": "code",
      "source": [
        "print(tf.__version__)"
      ],
      "metadata": {
        "colab": {
          "base_uri": "https://localhost:8080/"
        },
        "id": "7_ZJWruKh6Xz",
        "outputId": "f6f4b550-70eb-4220-f295-125c7c80de75"
      },
      "execution_count": 3,
      "outputs": [
        {
          "output_type": "stream",
          "name": "stdout",
          "text": [
            "2.15.0\n"
          ]
        }
      ]
    },
    {
      "cell_type": "code",
      "source": [
        "#Cretaed two simple list which has a pattern of adding +3 to determine the next value\n",
        "X  = [-0.7, -0.4, -0.1, 2.0, 5.0, 8.0, 11.0, 14.0]\n",
        "y = [3.0, 6.0, 9.0, 12.0, 15.0, 18.0, 21.0, 24.0]\n",
        "X,y"
      ],
      "metadata": {
        "colab": {
          "base_uri": "https://localhost:8080/"
        },
        "id": "DndkNg-1iBXM",
        "outputId": "e670652e-b912-46df-9eca-b887b2fb3902"
      },
      "execution_count": 4,
      "outputs": [
        {
          "output_type": "execute_result",
          "data": {
            "text/plain": [
              "([-0.7, -0.4, -0.1, 2.0, 5.0, 8.0, 11.0, 14.0],\n",
              " [3.0, 6.0, 9.0, 12.0, 15.0, 18.0, 21.0, 24.0])"
            ]
          },
          "metadata": {},
          "execution_count": 4
        }
      ]
    },
    {
      "cell_type": "code",
      "source": [
        "#Converted the two lists to tensors\n",
        "X = tf.constant(X)\n",
        "y = tf.constant(y)\n",
        "X, y"
      ],
      "metadata": {
        "colab": {
          "base_uri": "https://localhost:8080/"
        },
        "id": "cNIu-OXpiuaq",
        "outputId": "d5270a2d-4b9c-4e51-855f-023756710703"
      },
      "execution_count": 5,
      "outputs": [
        {
          "output_type": "execute_result",
          "data": {
            "text/plain": [
              "(<tf.Tensor: shape=(8,), dtype=float32, numpy=array([-0.7, -0.4, -0.1,  2. ,  5. ,  8. , 11. , 14. ], dtype=float32)>,\n",
              " <tf.Tensor: shape=(8,), dtype=float32, numpy=array([ 3.,  6.,  9., 12., 15., 18., 21., 24.], dtype=float32)>)"
            ]
          },
          "metadata": {},
          "execution_count": 5
        }
      ]
    },
    {
      "cell_type": "markdown",
      "source": [
        "\n",
        "## Overview\n",
        "In TensorFlow, there are typically 3 fundamental steps to creating and training a model.\n",
        "\n",
        "### **1. Creating a Model**\n",
        "Piece together the layers of a neural network yourself (using the Functional or Sequential API) or import a previously built model (known as transfer learning).\n",
        "\n",
        "### **2. Compiling a Model**\n",
        "Define how a model's performance should be measured (loss/metrics) as well as how it should improve (optimizer).\n",
        "\n",
        "### **3. Fitting a Model**\n",
        "Let the model try to find patterns in the data (how does X get to y).\n",
        "\n",
        "Let's see these in action using the Keras Sequential API to build a model for our regression data."
      ],
      "metadata": {
        "id": "NAzOlBGnvxQO"
      }
    },
    {
      "cell_type": "code",
      "source": [
        "#set a random seed\n",
        "tf.random.set_seed(42)\n",
        "\n",
        "#Create a model using Sequential API\n",
        "model = tf.keras.Sequential([\n",
        "    tf.keras.layers.Dense(50, activation = None),\n",
        "    tf.keras.layers.Dense(1)\n",
        "])\n",
        "\n",
        "#Complile the model\n",
        "model.compile(loss = tf.keras.losses.mae,\n",
        "               optimizer = tf.keras.optimizers.Adam(learning_rate = 0.01),\n",
        "               metrics = [\"mae\"]\n",
        "               )\n",
        "model.fit(expand_dims(X, -1), y, epochs=100)"
      ],
      "metadata": {
        "colab": {
          "base_uri": "https://localhost:8080/"
        },
        "id": "dWClm7p7i0M8",
        "outputId": "88fbef50-2dc9-4a4e-ae25-ea76ff19c257"
      },
      "execution_count": 6,
      "outputs": [
        {
          "output_type": "stream",
          "name": "stdout",
          "text": [
            "Epoch 1/100\n",
            "1/1 [==============================] - 1s 800ms/step - loss: 11.6476 - mae: 11.6476\n",
            "Epoch 2/100\n",
            "1/1 [==============================] - 0s 11ms/step - loss: 10.6522 - mae: 10.6522\n",
            "Epoch 3/100\n",
            "1/1 [==============================] - 0s 18ms/step - loss: 9.6388 - mae: 9.6388\n",
            "Epoch 4/100\n",
            "1/1 [==============================] - 0s 18ms/step - loss: 8.6044 - mae: 8.6044\n",
            "Epoch 5/100\n",
            "1/1 [==============================] - 0s 13ms/step - loss: 7.5471 - mae: 7.5471\n",
            "Epoch 6/100\n",
            "1/1 [==============================] - 0s 12ms/step - loss: 6.4640 - mae: 6.4640\n",
            "Epoch 7/100\n",
            "1/1 [==============================] - 0s 12ms/step - loss: 5.3525 - mae: 5.3525\n",
            "Epoch 8/100\n",
            "1/1 [==============================] - 0s 11ms/step - loss: 4.5153 - mae: 4.5153\n",
            "Epoch 9/100\n",
            "1/1 [==============================] - 0s 12ms/step - loss: 4.4736 - mae: 4.4736\n",
            "Epoch 10/100\n",
            "1/1 [==============================] - 0s 11ms/step - loss: 4.6385 - mae: 4.6385\n",
            "Epoch 11/100\n",
            "1/1 [==============================] - 0s 13ms/step - loss: 5.0617 - mae: 5.0617\n",
            "Epoch 12/100\n",
            "1/1 [==============================] - 0s 12ms/step - loss: 5.3239 - mae: 5.3239\n",
            "Epoch 13/100\n",
            "1/1 [==============================] - 0s 13ms/step - loss: 5.4439 - mae: 5.4439\n",
            "Epoch 14/100\n",
            "1/1 [==============================] - 0s 11ms/step - loss: 5.4460 - mae: 5.4460\n",
            "Epoch 15/100\n",
            "1/1 [==============================] - 0s 11ms/step - loss: 5.3509 - mae: 5.3509\n",
            "Epoch 16/100\n",
            "1/1 [==============================] - 0s 11ms/step - loss: 5.1764 - mae: 5.1764\n",
            "Epoch 17/100\n",
            "1/1 [==============================] - 0s 11ms/step - loss: 4.9376 - mae: 4.9376\n",
            "Epoch 18/100\n",
            "1/1 [==============================] - 0s 16ms/step - loss: 4.6472 - mae: 4.6472\n",
            "Epoch 19/100\n",
            "1/1 [==============================] - 0s 11ms/step - loss: 4.3161 - mae: 4.3161\n",
            "Epoch 20/100\n",
            "1/1 [==============================] - 0s 14ms/step - loss: 4.0170 - mae: 4.0170\n",
            "Epoch 21/100\n",
            "1/1 [==============================] - 0s 10ms/step - loss: 3.8526 - mae: 3.8526\n",
            "Epoch 22/100\n",
            "1/1 [==============================] - 0s 12ms/step - loss: 3.6920 - mae: 3.6920\n",
            "Epoch 23/100\n",
            "1/1 [==============================] - 0s 11ms/step - loss: 3.6272 - mae: 3.6272\n",
            "Epoch 24/100\n",
            "1/1 [==============================] - 0s 10ms/step - loss: 3.6783 - mae: 3.6783\n",
            "Epoch 25/100\n",
            "1/1 [==============================] - 0s 10ms/step - loss: 3.7016 - mae: 3.7016\n",
            "Epoch 26/100\n",
            "1/1 [==============================] - 0s 10ms/step - loss: 3.7065 - mae: 3.7065\n",
            "Epoch 27/100\n",
            "1/1 [==============================] - 0s 10ms/step - loss: 3.5563 - mae: 3.5563\n",
            "Epoch 28/100\n",
            "1/1 [==============================] - 0s 11ms/step - loss: 3.4414 - mae: 3.4414\n",
            "Epoch 29/100\n",
            "1/1 [==============================] - 0s 15ms/step - loss: 3.3106 - mae: 3.3106\n",
            "Epoch 30/100\n",
            "1/1 [==============================] - 0s 13ms/step - loss: 3.1641 - mae: 3.1641\n",
            "Epoch 31/100\n",
            "1/1 [==============================] - 0s 11ms/step - loss: 3.0466 - mae: 3.0466\n",
            "Epoch 32/100\n",
            "1/1 [==============================] - 0s 11ms/step - loss: 3.0125 - mae: 3.0125\n",
            "Epoch 33/100\n",
            "1/1 [==============================] - 0s 11ms/step - loss: 2.9657 - mae: 2.9657\n",
            "Epoch 34/100\n",
            "1/1 [==============================] - 0s 10ms/step - loss: 2.9070 - mae: 2.9070\n",
            "Epoch 35/100\n",
            "1/1 [==============================] - 0s 10ms/step - loss: 2.8369 - mae: 2.8369\n",
            "Epoch 36/100\n",
            "1/1 [==============================] - 0s 15ms/step - loss: 2.7563 - mae: 2.7563\n",
            "Epoch 37/100\n",
            "1/1 [==============================] - 0s 11ms/step - loss: 2.6655 - mae: 2.6655\n",
            "Epoch 38/100\n",
            "1/1 [==============================] - 0s 11ms/step - loss: 2.5652 - mae: 2.5652\n",
            "Epoch 39/100\n",
            "1/1 [==============================] - 0s 13ms/step - loss: 2.4598 - mae: 2.4598\n",
            "Epoch 40/100\n",
            "1/1 [==============================] - 0s 11ms/step - loss: 2.3853 - mae: 2.3853\n",
            "Epoch 41/100\n",
            "1/1 [==============================] - 0s 10ms/step - loss: 2.3059 - mae: 2.3059\n",
            "Epoch 42/100\n",
            "1/1 [==============================] - 0s 10ms/step - loss: 2.2220 - mae: 2.2220\n",
            "Epoch 43/100\n",
            "1/1 [==============================] - 0s 10ms/step - loss: 2.1786 - mae: 2.1786\n",
            "Epoch 44/100\n",
            "1/1 [==============================] - 0s 12ms/step - loss: 2.1606 - mae: 2.1606\n",
            "Epoch 45/100\n",
            "1/1 [==============================] - 0s 11ms/step - loss: 2.1134 - mae: 2.1134\n",
            "Epoch 46/100\n",
            "1/1 [==============================] - 0s 12ms/step - loss: 2.0388 - mae: 2.0388\n",
            "Epoch 47/100\n",
            "1/1 [==============================] - 0s 12ms/step - loss: 1.9382 - mae: 1.9382\n",
            "Epoch 48/100\n",
            "1/1 [==============================] - 0s 11ms/step - loss: 1.9170 - mae: 1.9170\n",
            "Epoch 49/100\n",
            "1/1 [==============================] - 0s 14ms/step - loss: 1.8877 - mae: 1.8877\n",
            "Epoch 50/100\n",
            "1/1 [==============================] - 0s 11ms/step - loss: 1.8470 - mae: 1.8470\n",
            "Epoch 51/100\n",
            "1/1 [==============================] - 0s 12ms/step - loss: 1.7955 - mae: 1.7955\n",
            "Epoch 52/100\n",
            "1/1 [==============================] - 0s 11ms/step - loss: 1.7337 - mae: 1.7337\n",
            "Epoch 53/100\n",
            "1/1 [==============================] - 0s 11ms/step - loss: 1.6620 - mae: 1.6620\n",
            "Epoch 54/100\n",
            "1/1 [==============================] - 0s 11ms/step - loss: 1.5809 - mae: 1.5809\n",
            "Epoch 55/100\n",
            "1/1 [==============================] - 0s 11ms/step - loss: 1.5028 - mae: 1.5028\n",
            "Epoch 56/100\n",
            "1/1 [==============================] - 0s 11ms/step - loss: 1.4799 - mae: 1.4799\n",
            "Epoch 57/100\n",
            "1/1 [==============================] - 0s 11ms/step - loss: 1.4912 - mae: 1.4912\n",
            "Epoch 58/100\n",
            "1/1 [==============================] - 0s 11ms/step - loss: 1.4701 - mae: 1.4701\n",
            "Epoch 59/100\n",
            "1/1 [==============================] - 0s 10ms/step - loss: 1.4187 - mae: 1.4187\n",
            "Epoch 60/100\n",
            "1/1 [==============================] - 0s 10ms/step - loss: 1.4359 - mae: 1.4359\n",
            "Epoch 61/100\n",
            "1/1 [==============================] - 0s 10ms/step - loss: 1.4469 - mae: 1.4469\n",
            "Epoch 62/100\n",
            "1/1 [==============================] - 0s 12ms/step - loss: 1.4436 - mae: 1.4436\n",
            "Epoch 63/100\n",
            "1/1 [==============================] - 0s 10ms/step - loss: 1.4271 - mae: 1.4271\n",
            "Epoch 64/100\n",
            "1/1 [==============================] - 0s 13ms/step - loss: 1.3983 - mae: 1.3983\n",
            "Epoch 65/100\n",
            "1/1 [==============================] - 0s 15ms/step - loss: 1.3581 - mae: 1.3581\n",
            "Epoch 66/100\n",
            "1/1 [==============================] - 0s 13ms/step - loss: 1.3505 - mae: 1.3505\n",
            "Epoch 67/100\n",
            "1/1 [==============================] - 0s 10ms/step - loss: 1.3614 - mae: 1.3614\n",
            "Epoch 68/100\n",
            "1/1 [==============================] - 0s 11ms/step - loss: 1.3345 - mae: 1.3345\n",
            "Epoch 69/100\n",
            "1/1 [==============================] - 0s 10ms/step - loss: 1.3012 - mae: 1.3012\n",
            "Epoch 70/100\n",
            "1/1 [==============================] - 0s 10ms/step - loss: 1.3050 - mae: 1.3050\n",
            "Epoch 71/100\n",
            "1/1 [==============================] - 0s 11ms/step - loss: 1.2935 - mae: 1.2935\n",
            "Epoch 72/100\n",
            "1/1 [==============================] - 0s 10ms/step - loss: 1.2678 - mae: 1.2678\n",
            "Epoch 73/100\n",
            "1/1 [==============================] - 0s 11ms/step - loss: 1.2783 - mae: 1.2783\n",
            "Epoch 74/100\n",
            "1/1 [==============================] - 0s 13ms/step - loss: 1.2708 - mae: 1.2708\n",
            "Epoch 75/100\n",
            "1/1 [==============================] - 0s 10ms/step - loss: 1.2289 - mae: 1.2289\n",
            "Epoch 76/100\n",
            "1/1 [==============================] - 0s 10ms/step - loss: 1.2242 - mae: 1.2242\n",
            "Epoch 77/100\n",
            "1/1 [==============================] - 0s 12ms/step - loss: 1.2352 - mae: 1.2352\n",
            "Epoch 78/100\n",
            "1/1 [==============================] - 0s 10ms/step - loss: 1.2425 - mae: 1.2425\n",
            "Epoch 79/100\n",
            "1/1 [==============================] - 0s 10ms/step - loss: 1.2457 - mae: 1.2457\n",
            "Epoch 80/100\n",
            "1/1 [==============================] - 0s 10ms/step - loss: 1.2596 - mae: 1.2596\n",
            "Epoch 81/100\n",
            "1/1 [==============================] - 0s 10ms/step - loss: 1.2553 - mae: 1.2553\n",
            "Epoch 82/100\n",
            "1/1 [==============================] - 0s 10ms/step - loss: 1.2644 - mae: 1.2644\n",
            "Epoch 83/100\n",
            "1/1 [==============================] - 0s 11ms/step - loss: 1.2569 - mae: 1.2569\n",
            "Epoch 84/100\n",
            "1/1 [==============================] - 0s 10ms/step - loss: 1.2519 - mae: 1.2519\n",
            "Epoch 85/100\n",
            "1/1 [==============================] - 0s 16ms/step - loss: 1.2502 - mae: 1.2502\n",
            "Epoch 86/100\n",
            "1/1 [==============================] - 0s 11ms/step - loss: 1.2257 - mae: 1.2257\n",
            "Epoch 87/100\n",
            "1/1 [==============================] - 0s 10ms/step - loss: 1.2847 - mae: 1.2847\n",
            "Epoch 88/100\n",
            "1/1 [==============================] - 0s 10ms/step - loss: 1.2437 - mae: 1.2437\n",
            "Epoch 89/100\n",
            "1/1 [==============================] - 0s 10ms/step - loss: 1.2923 - mae: 1.2923\n",
            "Epoch 90/100\n",
            "1/1 [==============================] - 0s 10ms/step - loss: 1.2578 - mae: 1.2578\n",
            "Epoch 91/100\n",
            "1/1 [==============================] - 0s 11ms/step - loss: 1.2438 - mae: 1.2438\n",
            "Epoch 92/100\n",
            "1/1 [==============================] - 0s 10ms/step - loss: 1.2529 - mae: 1.2529\n",
            "Epoch 93/100\n",
            "1/1 [==============================] - 0s 10ms/step - loss: 1.2432 - mae: 1.2432\n",
            "Epoch 94/100\n",
            "1/1 [==============================] - 0s 15ms/step - loss: 1.2449 - mae: 1.2449\n",
            "Epoch 95/100\n",
            "1/1 [==============================] - 0s 14ms/step - loss: 1.2336 - mae: 1.2336\n",
            "Epoch 96/100\n",
            "1/1 [==============================] - 0s 12ms/step - loss: 1.2418 - mae: 1.2418\n",
            "Epoch 97/100\n",
            "1/1 [==============================] - 0s 12ms/step - loss: 1.2359 - mae: 1.2359\n",
            "Epoch 98/100\n",
            "1/1 [==============================] - 0s 14ms/step - loss: 1.2336 - mae: 1.2336\n",
            "Epoch 99/100\n",
            "1/1 [==============================] - 0s 13ms/step - loss: 1.2195 - mae: 1.2195\n",
            "Epoch 100/100\n",
            "1/1 [==============================] - 0s 10ms/step - loss: 1.2284 - mae: 1.2284\n"
          ]
        },
        {
          "output_type": "execute_result",
          "data": {
            "text/plain": [
              "<keras.src.callbacks.History at 0x7f5450285660>"
            ]
          },
          "metadata": {},
          "execution_count": 6
        }
      ]
    },
    {
      "cell_type": "code",
      "source": [
        "model.predict([17.0])"
      ],
      "metadata": {
        "colab": {
          "base_uri": "https://localhost:8080/"
        },
        "id": "Ny5OqhAMjKzf",
        "outputId": "b6f7737c-5849-470e-f52c-90f483d4d858"
      },
      "execution_count": 7,
      "outputs": [
        {
          "output_type": "stream",
          "name": "stdout",
          "text": [
            "1/1 [==============================] - 0s 106ms/step\n"
          ]
        },
        {
          "output_type": "execute_result",
          "data": {
            "text/plain": [
              "array([[27.620466]], dtype=float32)"
            ]
          },
          "metadata": {},
          "execution_count": 7
        }
      ]
    },
    {
      "cell_type": "code",
      "source": [
        "model.predict([21.0])"
      ],
      "metadata": {
        "colab": {
          "base_uri": "https://localhost:8080/"
        },
        "id": "oFadlyTmkZ5Z",
        "outputId": "4bef9db9-5412-4258-c714-ad5e554b25f8"
      },
      "execution_count": 8,
      "outputs": [
        {
          "output_type": "stream",
          "name": "stdout",
          "text": [
            "1/1 [==============================] - 0s 37ms/step\n"
          ]
        },
        {
          "output_type": "execute_result",
          "data": {
            "text/plain": [
              "array([[31.958273]], dtype=float32)"
            ]
          },
          "metadata": {},
          "execution_count": 8
        }
      ]
    },
    {
      "cell_type": "code",
      "source": [
        "#set a random seed\n",
        "tf.random.set_seed(42)\n",
        "\n",
        "#Create a model using Sequential API\n",
        "model = tf.keras.Sequential([\n",
        "    tf.keras.layers.Dense(50, activation= \"relu\"),\n",
        "    tf.keras.layers.Dense(1)\n",
        "])\n",
        "\n",
        "#Complile the model\n",
        "model.compile(loss = tf.keras.losses.mae,\n",
        "               optimizer = tf.keras.optimizers.Adam(learning_rate = 0.01),\n",
        "               metrics = [\"mae\"]\n",
        "               )\n",
        "model.fit(expand_dims(X, -1), y, epochs=100)"
      ],
      "metadata": {
        "colab": {
          "base_uri": "https://localhost:8080/"
        },
        "id": "y6T0m89UkePN",
        "outputId": "db993614-9646-4f30-ec47-da43c2945fd6"
      },
      "execution_count": 9,
      "outputs": [
        {
          "output_type": "stream",
          "name": "stdout",
          "text": [
            "Epoch 1/100\n",
            "1/1 [==============================] - 1s 843ms/step - loss: 12.5859 - mae: 12.5859\n",
            "Epoch 2/100\n",
            "1/1 [==============================] - 0s 12ms/step - loss: 12.1010 - mae: 12.1010\n",
            "Epoch 3/100\n",
            "1/1 [==============================] - 0s 11ms/step - loss: 11.6168 - mae: 11.6168\n",
            "Epoch 4/100\n",
            "1/1 [==============================] - 0s 12ms/step - loss: 11.1247 - mae: 11.1247\n",
            "Epoch 5/100\n",
            "1/1 [==============================] - 0s 11ms/step - loss: 10.6271 - mae: 10.6271\n",
            "Epoch 6/100\n",
            "1/1 [==============================] - 0s 11ms/step - loss: 10.1261 - mae: 10.1261\n",
            "Epoch 7/100\n",
            "1/1 [==============================] - 0s 11ms/step - loss: 9.6175 - mae: 9.6175\n",
            "Epoch 8/100\n",
            "1/1 [==============================] - 0s 12ms/step - loss: 9.0987 - mae: 9.0987\n",
            "Epoch 9/100\n",
            "1/1 [==============================] - 0s 15ms/step - loss: 8.5730 - mae: 8.5730\n",
            "Epoch 10/100\n",
            "1/1 [==============================] - 0s 10ms/step - loss: 8.0378 - mae: 8.0378\n",
            "Epoch 11/100\n",
            "1/1 [==============================] - 0s 13ms/step - loss: 7.4884 - mae: 7.4884\n",
            "Epoch 12/100\n",
            "1/1 [==============================] - 0s 11ms/step - loss: 6.9237 - mae: 6.9237\n",
            "Epoch 13/100\n",
            "1/1 [==============================] - 0s 11ms/step - loss: 6.3424 - mae: 6.3424\n",
            "Epoch 14/100\n",
            "1/1 [==============================] - 0s 13ms/step - loss: 5.7430 - mae: 5.7430\n",
            "Epoch 15/100\n",
            "1/1 [==============================] - 0s 13ms/step - loss: 5.1249 - mae: 5.1249\n",
            "Epoch 16/100\n",
            "1/1 [==============================] - 0s 12ms/step - loss: 4.4869 - mae: 4.4869\n",
            "Epoch 17/100\n",
            "1/1 [==============================] - 0s 16ms/step - loss: 3.9488 - mae: 3.9488\n",
            "Epoch 18/100\n",
            "1/1 [==============================] - 0s 16ms/step - loss: 3.6980 - mae: 3.6980\n",
            "Epoch 19/100\n",
            "1/1 [==============================] - 0s 14ms/step - loss: 3.6829 - mae: 3.6829\n",
            "Epoch 20/100\n",
            "1/1 [==============================] - 0s 17ms/step - loss: 3.7235 - mae: 3.7235\n",
            "Epoch 21/100\n",
            "1/1 [==============================] - 0s 15ms/step - loss: 3.7472 - mae: 3.7472\n",
            "Epoch 22/100\n",
            "1/1 [==============================] - 0s 13ms/step - loss: 3.8661 - mae: 3.8661\n",
            "Epoch 23/100\n",
            "1/1 [==============================] - 0s 12ms/step - loss: 3.9640 - mae: 3.9640\n",
            "Epoch 24/100\n",
            "1/1 [==============================] - 0s 24ms/step - loss: 4.0427 - mae: 4.0427\n",
            "Epoch 25/100\n",
            "1/1 [==============================] - 0s 19ms/step - loss: 4.0659 - mae: 4.0659\n",
            "Epoch 26/100\n",
            "1/1 [==============================] - 0s 15ms/step - loss: 4.0402 - mae: 4.0402\n",
            "Epoch 27/100\n",
            "1/1 [==============================] - 0s 26ms/step - loss: 3.9721 - mae: 3.9721\n",
            "Epoch 28/100\n",
            "1/1 [==============================] - 0s 19ms/step - loss: 3.8676 - mae: 3.8676\n",
            "Epoch 29/100\n",
            "1/1 [==============================] - 0s 24ms/step - loss: 3.7332 - mae: 3.7332\n",
            "Epoch 30/100\n",
            "1/1 [==============================] - 0s 25ms/step - loss: 3.5751 - mae: 3.5751\n",
            "Epoch 31/100\n",
            "1/1 [==============================] - 0s 22ms/step - loss: 3.3950 - mae: 3.3950\n",
            "Epoch 32/100\n",
            "1/1 [==============================] - 0s 21ms/step - loss: 3.2993 - mae: 3.2993\n",
            "Epoch 33/100\n",
            "1/1 [==============================] - 0s 21ms/step - loss: 3.2164 - mae: 3.2164\n",
            "Epoch 34/100\n",
            "1/1 [==============================] - 0s 26ms/step - loss: 3.1357 - mae: 3.1357\n",
            "Epoch 35/100\n",
            "1/1 [==============================] - 0s 19ms/step - loss: 3.0567 - mae: 3.0567\n",
            "Epoch 36/100\n",
            "1/1 [==============================] - 0s 24ms/step - loss: 2.9809 - mae: 2.9809\n",
            "Epoch 37/100\n",
            "1/1 [==============================] - 0s 31ms/step - loss: 2.9741 - mae: 2.9741\n",
            "Epoch 38/100\n",
            "1/1 [==============================] - 0s 24ms/step - loss: 3.0107 - mae: 3.0107\n",
            "Epoch 39/100\n",
            "1/1 [==============================] - 0s 18ms/step - loss: 3.0297 - mae: 3.0297\n",
            "Epoch 40/100\n",
            "1/1 [==============================] - 0s 24ms/step - loss: 3.0332 - mae: 3.0332\n",
            "Epoch 41/100\n",
            "1/1 [==============================] - 0s 23ms/step - loss: 3.0228 - mae: 3.0228\n",
            "Epoch 42/100\n",
            "1/1 [==============================] - 0s 23ms/step - loss: 2.9994 - mae: 2.9994\n",
            "Epoch 43/100\n",
            "1/1 [==============================] - 0s 29ms/step - loss: 2.9642 - mae: 2.9642\n",
            "Epoch 44/100\n",
            "1/1 [==============================] - 0s 25ms/step - loss: 2.9185 - mae: 2.9185\n",
            "Epoch 45/100\n",
            "1/1 [==============================] - 0s 23ms/step - loss: 2.8617 - mae: 2.8617\n",
            "Epoch 46/100\n",
            "1/1 [==============================] - 0s 25ms/step - loss: 2.8264 - mae: 2.8264\n",
            "Epoch 47/100\n",
            "1/1 [==============================] - 0s 21ms/step - loss: 2.7858 - mae: 2.7858\n",
            "Epoch 48/100\n",
            "1/1 [==============================] - 0s 23ms/step - loss: 2.7334 - mae: 2.7334\n",
            "Epoch 49/100\n",
            "1/1 [==============================] - 0s 19ms/step - loss: 2.7315 - mae: 2.7315\n",
            "Epoch 50/100\n",
            "1/1 [==============================] - 0s 26ms/step - loss: 2.7440 - mae: 2.7440\n",
            "Epoch 51/100\n",
            "1/1 [==============================] - 0s 21ms/step - loss: 2.7444 - mae: 2.7444\n",
            "Epoch 52/100\n",
            "1/1 [==============================] - 0s 13ms/step - loss: 2.7334 - mae: 2.7334\n",
            "Epoch 53/100\n",
            "1/1 [==============================] - 0s 34ms/step - loss: 2.7120 - mae: 2.7120\n",
            "Epoch 54/100\n",
            "1/1 [==============================] - 0s 23ms/step - loss: 2.6813 - mae: 2.6813\n",
            "Epoch 55/100\n",
            "1/1 [==============================] - 0s 25ms/step - loss: 2.6418 - mae: 2.6418\n",
            "Epoch 56/100\n",
            "1/1 [==============================] - 0s 19ms/step - loss: 2.5937 - mae: 2.5937\n",
            "Epoch 57/100\n",
            "1/1 [==============================] - 0s 21ms/step - loss: 2.5381 - mae: 2.5381\n",
            "Epoch 58/100\n",
            "1/1 [==============================] - 0s 21ms/step - loss: 2.4936 - mae: 2.4936\n",
            "Epoch 59/100\n",
            "1/1 [==============================] - 0s 46ms/step - loss: 2.5032 - mae: 2.5032\n",
            "Epoch 60/100\n",
            "1/1 [==============================] - 0s 20ms/step - loss: 2.4865 - mae: 2.4865\n",
            "Epoch 61/100\n",
            "1/1 [==============================] - 0s 16ms/step - loss: 2.4442 - mae: 2.4442\n",
            "Epoch 62/100\n",
            "1/1 [==============================] - 0s 28ms/step - loss: 2.4245 - mae: 2.4245\n",
            "Epoch 63/100\n",
            "1/1 [==============================] - 0s 19ms/step - loss: 2.4078 - mae: 2.4078\n",
            "Epoch 64/100\n",
            "1/1 [==============================] - 0s 17ms/step - loss: 2.3761 - mae: 2.3761\n",
            "Epoch 65/100\n",
            "1/1 [==============================] - 0s 17ms/step - loss: 2.3297 - mae: 2.3297\n",
            "Epoch 66/100\n",
            "1/1 [==============================] - 0s 16ms/step - loss: 2.2676 - mae: 2.2676\n",
            "Epoch 67/100\n",
            "1/1 [==============================] - 0s 16ms/step - loss: 2.2076 - mae: 2.2076\n",
            "Epoch 68/100\n",
            "1/1 [==============================] - 0s 23ms/step - loss: 2.1526 - mae: 2.1526\n",
            "Epoch 69/100\n",
            "1/1 [==============================] - 0s 24ms/step - loss: 2.1391 - mae: 2.1391\n",
            "Epoch 70/100\n",
            "1/1 [==============================] - 0s 14ms/step - loss: 2.0821 - mae: 2.0821\n",
            "Epoch 71/100\n",
            "1/1 [==============================] - 0s 18ms/step - loss: 1.9938 - mae: 1.9938\n",
            "Epoch 72/100\n",
            "1/1 [==============================] - 0s 32ms/step - loss: 1.9104 - mae: 1.9104\n",
            "Epoch 73/100\n",
            "1/1 [==============================] - 0s 29ms/step - loss: 1.8957 - mae: 1.8957\n",
            "Epoch 74/100\n",
            "1/1 [==============================] - 0s 55ms/step - loss: 1.8689 - mae: 1.8689\n",
            "Epoch 75/100\n",
            "1/1 [==============================] - 0s 21ms/step - loss: 1.8346 - mae: 1.8346\n",
            "Epoch 76/100\n",
            "1/1 [==============================] - 0s 24ms/step - loss: 1.7800 - mae: 1.7800\n",
            "Epoch 77/100\n",
            "1/1 [==============================] - 0s 26ms/step - loss: 1.7142 - mae: 1.7142\n",
            "Epoch 78/100\n",
            "1/1 [==============================] - 0s 43ms/step - loss: 1.6373 - mae: 1.6373\n",
            "Epoch 79/100\n",
            "1/1 [==============================] - 0s 14ms/step - loss: 1.5437 - mae: 1.5437\n",
            "Epoch 80/100\n",
            "1/1 [==============================] - 0s 52ms/step - loss: 1.5880 - mae: 1.5880\n",
            "Epoch 81/100\n",
            "1/1 [==============================] - 0s 66ms/step - loss: 1.5827 - mae: 1.5827\n",
            "Epoch 82/100\n",
            "1/1 [==============================] - 0s 46ms/step - loss: 1.5280 - mae: 1.5280\n",
            "Epoch 83/100\n",
            "1/1 [==============================] - 0s 49ms/step - loss: 1.4557 - mae: 1.4557\n",
            "Epoch 84/100\n",
            "1/1 [==============================] - 0s 58ms/step - loss: 1.4530 - mae: 1.4530\n",
            "Epoch 85/100\n",
            "1/1 [==============================] - 0s 31ms/step - loss: 1.4258 - mae: 1.4258\n",
            "Epoch 86/100\n",
            "1/1 [==============================] - 0s 32ms/step - loss: 1.3763 - mae: 1.3763\n",
            "Epoch 87/100\n",
            "1/1 [==============================] - 0s 30ms/step - loss: 1.3914 - mae: 1.3914\n",
            "Epoch 88/100\n",
            "1/1 [==============================] - 0s 31ms/step - loss: 1.3707 - mae: 1.3707\n",
            "Epoch 89/100\n",
            "1/1 [==============================] - 0s 24ms/step - loss: 1.2968 - mae: 1.2968\n",
            "Epoch 90/100\n",
            "1/1 [==============================] - 0s 19ms/step - loss: 1.2755 - mae: 1.2755\n",
            "Epoch 91/100\n",
            "1/1 [==============================] - 0s 43ms/step - loss: 1.2898 - mae: 1.2898\n",
            "Epoch 92/100\n",
            "1/1 [==============================] - 0s 34ms/step - loss: 1.2255 - mae: 1.2255\n",
            "Epoch 93/100\n",
            "1/1 [==============================] - 0s 52ms/step - loss: 1.1449 - mae: 1.1449\n",
            "Epoch 94/100\n",
            "1/1 [==============================] - 0s 17ms/step - loss: 1.2862 - mae: 1.2862\n",
            "Epoch 95/100\n",
            "1/1 [==============================] - 0s 23ms/step - loss: 1.1368 - mae: 1.1368\n",
            "Epoch 96/100\n",
            "1/1 [==============================] - 0s 28ms/step - loss: 1.1352 - mae: 1.1352\n",
            "Epoch 97/100\n",
            "1/1 [==============================] - 0s 22ms/step - loss: 1.2222 - mae: 1.2222\n",
            "Epoch 98/100\n",
            "1/1 [==============================] - 0s 24ms/step - loss: 1.1592 - mae: 1.1592\n",
            "Epoch 99/100\n",
            "1/1 [==============================] - 0s 17ms/step - loss: 1.0446 - mae: 1.0446\n",
            "Epoch 100/100\n",
            "1/1 [==============================] - 0s 26ms/step - loss: 1.1459 - mae: 1.1459\n"
          ]
        },
        {
          "output_type": "execute_result",
          "data": {
            "text/plain": [
              "<keras.src.callbacks.History at 0x7f5443f1c640>"
            ]
          },
          "metadata": {},
          "execution_count": 9
        }
      ]
    },
    {
      "cell_type": "code",
      "source": [
        "model.predict([17.0])\n"
      ],
      "metadata": {
        "id": "akuZCf5OqNG7",
        "outputId": "9726273b-b7df-41ce-e9d8-c6d78314724f",
        "colab": {
          "base_uri": "https://localhost:8080/"
        }
      },
      "execution_count": 10,
      "outputs": [
        {
          "output_type": "stream",
          "name": "stdout",
          "text": [
            "1/1 [==============================] - 0s 72ms/step\n"
          ]
        },
        {
          "output_type": "execute_result",
          "data": {
            "text/plain": [
              "array([[27.656744]], dtype=float32)"
            ]
          },
          "metadata": {},
          "execution_count": 10
        }
      ]
    },
    {
      "cell_type": "code",
      "source": [],
      "metadata": {
        "id": "T009Dca4qQXe"
      },
      "execution_count": 10,
      "outputs": []
    }
  ]
}